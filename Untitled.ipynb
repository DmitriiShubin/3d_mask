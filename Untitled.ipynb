{
 "cells": [
  {
   "cell_type": "code",
   "execution_count": 1,
   "id": "dee662d4-0674-4ca3-9e20-853c576d8d4a",
   "metadata": {},
   "outputs": [
    {
     "name": "stdout",
     "output_type": "stream",
     "text": [
      "Jupyter environment detected. Enabling Open3D WebVisualizer.\n",
      "[Open3D INFO] WebRTC GUI backend enabled.\n",
      "[Open3D INFO] WebRTCWindowSystem: HTTP handshake server disabled.\n"
     ]
    }
   ],
   "source": [
    "# To install dependencies: pip install numpy, open3d, opencv-python\n",
    "import numpy as np\n",
    "import open3d as o3d\n",
    "import cv2\n",
    "import copy\n",
    "import matplotlib.pyplot as plt\n",
    "from time import time"
   ]
  },
  {
   "cell_type": "code",
   "execution_count": 68,
   "id": "ab8ab048-c34b-4b82-a17e-3a4a5368eab6",
   "metadata": {},
   "outputs": [
    {
     "data": {
      "text/plain": [
       "2.718281828459045"
      ]
     },
     "execution_count": 68,
     "metadata": {},
     "output_type": "execute_result"
    }
   ],
   "source": [
    "np.exp(1)"
   ]
  },
  {
   "cell_type": "code",
   "execution_count": 70,
   "id": "dc23b6c2-b144-4a63-a92e-1e6c73b4151c",
   "metadata": {},
   "outputs": [
    {
     "data": {
      "text/plain": [
       "148.4131591025766"
      ]
     },
     "execution_count": 70,
     "metadata": {},
     "output_type": "execute_result"
    }
   ],
   "source": [
    "np.exp(5)"
   ]
  },
  {
   "cell_type": "code",
   "execution_count": 2,
   "id": "97a2923b-f5f2-4ec5-beac-5a4d1653869b",
   "metadata": {},
   "outputs": [
    {
     "data": {
      "text/plain": [
       "TriangleMesh with 2019447 points and 673149 triangles."
      ]
     },
     "execution_count": 2,
     "metadata": {},
     "output_type": "execute_result"
    }
   ],
   "source": [
    "\n",
    "mesh = o3d.io.read_triangle_mesh(\"./data/3d_models/vendetta.OBJ\")\n",
    "mesh.compute_vertex_normals()\n",
    "mesh = mesh.translate(-1*mesh.get_center())\n",
    "mesh = mesh.scale(1/np.max(np.abs(np.asarray(mesh.vertices))), center=mesh.get_center())\n",
    "mesh.paint_uniform_color([0.2,0.2, 0.2])"
   ]
  },
  {
   "cell_type": "code",
   "execution_count": 65,
   "id": "61f2f104-eac6-4303-8de6-04d8e70d3861",
   "metadata": {},
   "outputs": [],
   "source": [
    "\n",
    "pcd = o3d.geometry.PointCloud()\n",
    "pcd.points = o3d.utility.Vector3dVector(np.array([\n",
    "    # [0.5,-0.01,0.2],\n",
    "    # [-0.5,-0.01,0.2]\n",
    "    \n",
    "    # [-0.01,0.125,0.5],\n",
    "    # [-0.01,0.125,-0.5]\n",
    "    \n",
    "    [0.45,0.35,-0.1],\n",
    "    [-0.45,0.35,-0.1]\n",
    "    \n",
    "    #[0,0,0] \n",
    "     ]))\n"
   ]
  },
  {
   "cell_type": "code",
   "execution_count": 66,
   "id": "f5aa3188-b170-47a6-b020-e5c7d5628f5d",
   "metadata": {},
   "outputs": [
    {
     "data": {
      "text/plain": [
       "PointCloud with 2 points."
      ]
     },
     "execution_count": 66,
     "metadata": {},
     "output_type": "execute_result"
    }
   ],
   "source": [
    "\n",
    "R = mesh.get_rotation_matrix_from_xyz((0,0,0))\n",
    "mesh_r = copy.deepcopy(mesh)\n",
    "pcd_r = copy.deepcopy(pcd)\n",
    "mesh_r.rotate(R, center=(0, 0, 0))\n",
    "pcd_r.rotate(R, center=(0, 0, 0))"
   ]
  },
  {
   "cell_type": "code",
   "execution_count": 67,
   "id": "a886c88a-4135-47d7-ab27-8bf8c018c5ed",
   "metadata": {},
   "outputs": [],
   "source": [
    "o3d.visualization.draw_geometries([mesh_r,pcd_r])"
   ]
  },
  {
   "cell_type": "code",
   "execution_count": null,
   "id": "310df14b-0952-4c14-8ef4-d03dfeef77f4",
   "metadata": {},
   "outputs": [],
   "source": [
    "img_width = 640\n",
    "img_height = 480\n",
    "render = o3d.visualization.rendering.OffscreenRenderer(img_width, img_height)\n",
    "\n",
    "# Pick a background colour (default is light gray)\n",
    "render.scene.set_background([255,255,255,0.5])  # RGBA\n",
    "\n",
    "\n",
    "# Define a simple unlit Material.\n",
    "# (The base color does not replace the arrows' own colors.)\n",
    "mtl = o3d.visualization.rendering.Material()\n",
    "mtl.base_color = [0.2, 0.2, 0.2, 1]  # RGBA\n",
    "mtl.shader = \"defaultLit\"#\"defaultLit\"\n",
    "\n",
    "mtl1 = o3d.visualization.rendering.Material()\n",
    "mtl1.base_color = [1, 0, 0, 10]  # RGBA\n",
    "mtl1.shader = \"defaultUnlit\"\n",
    "\n",
    "# Optionally set the camera field of view (to zoom in a bit)\n",
    "vertical_field_of_view = 16.0  # between 5 and 90 degrees\n",
    "aspect_ratio = img_width / img_height  # azimuth over elevation\n",
    "near_plane = 0.1\n",
    "far_plane = 10\n",
    "fov_type = o3d.visualization.rendering.Camera.FovType.Vertical\n",
    "render.scene.camera.set_projection(vertical_field_of_view, aspect_ratio, near_plane, far_plane, fov_type)\n",
    "#render.scene.show_axes(True)\n",
    "\n",
    "# Look at the origin from the front (along the -Z direction, into the screen), with Y as Up.\n",
    "center = [0, 0, 0]  # look_at target\n",
    "eye = [0, 0, 10]  # camera position\n",
    "up = [0, 1, 0]  # camera orientation\n",
    "render.scene.camera.look_at(center, eye, up)"
   ]
  },
  {
   "cell_type": "code",
   "execution_count": null,
   "id": "1560ed50-98ac-41b8-be02-b4345d80a9f9",
   "metadata": {},
   "outputs": [],
   "source": [
    "start = time()\n",
    "# Create a renderer with the desired image size\n",
    "\n",
    "\n",
    "# Add the arrow mesh to the scene.\n",
    "# (These are thicker than the main axis arrows, but the same length.)\n",
    "render.scene.add_geometry(\"rotated_model\", mesh_r, mtl)\n",
    "#render.scene.add_geometry(\"rotated_model\", pcd_r, mtl1)\n",
    "\n",
    "# Since the arrow material is unlit, it is not necessary to change the scene lighting.\n",
    "#render.scene.scene.enable_sun_light(False)\n",
    "#render.scene.set_lighting(render.scene.LightingProfile.MED_SHADOWS, (0, 0, -50))\n",
    "\n",
    "\n",
    "\n",
    "\n",
    "\n",
    "# Read the image into a variable\n",
    "img_o3d = render.render_to_image()\n",
    "\n",
    "# Display the image in a separate window\n",
    "# (Note: OpenCV expects the color in BGR format, so swop red and blue.)\n",
    "img_cv2 = cv2.cvtColor(np.array(img_o3d), cv2.COLOR_RGBA2RGB)\n",
    "\n",
    "\n",
    "print(1/(time()-start))\n",
    "\n",
    "fig = plt.figure(figsize=(10,10))\n",
    "\n",
    "\n",
    "frame = cv2.circle(img_cv2, (368,170), radius=2, color=(0, 0, 255), thickness=2)\n",
    "frame = cv2.circle(img_cv2, (407,205), radius=2, color=(0, 0, 255), thickness=2)\n",
    "#frame = cv2.circle(img_cv2, (203,218), radius=2, color=(0, 0, 255), thickness=2)\n",
    "plt.imshow(img_cv2)\n",
    "\n",
    "render.scene.clear_geometry()\n",
    "#img_cv2[img_cv2 == 254] = 255"
   ]
  },
  {
   "cell_type": "code",
   "execution_count": null,
   "id": "7e65b346-3c61-48ce-9e45-7e811e59d9df",
   "metadata": {},
   "outputs": [],
   "source": [
    "plt.imshow(cv2.resize(img_cv2,(320,240)))"
   ]
  },
  {
   "cell_type": "code",
   "execution_count": null,
   "id": "7ac34745-c4b1-4b6a-b312-80d713135d4c",
   "metadata": {},
   "outputs": [],
   "source": [
    "fig = plt.figure(figsize=(10,10))\n",
    "plt.imshow(img_cv2[:,:,1])"
   ]
  },
  {
   "cell_type": "code",
   "execution_count": null,
   "id": "b52c0177-7ae1-49af-a5ac-aeaec65cd2ea",
   "metadata": {},
   "outputs": [],
   "source": [
    "mask = np.zeros(img_cv2.shape)\n",
    "mask[img_cv2[:,:,0] < 150] = 1\n",
    "\n",
    "fig = plt.figure(figsize=(10,10))\n",
    "plt.imshow(mask)"
   ]
  },
  {
   "cell_type": "code",
   "execution_count": null,
   "id": "e68d524c-aebb-4c60-82fc-b47041f6ce7d",
   "metadata": {},
   "outputs": [],
   "source": [
    "image = cv2.imread('./head_pose/data/raw/archive/01/frame_00003_rgb.png')\n",
    "fig = plt.figure(figsize=(10,10))\n",
    "plt.imshow(image)"
   ]
  },
  {
   "cell_type": "code",
   "execution_count": null,
   "id": "2958b871-6300-4e7c-97c7-1bccc1ed52d8",
   "metadata": {},
   "outputs": [],
   "source": [
    "fig = plt.figure(figsize=(10,10))\n",
    "\n",
    "image[mask==1] = img_cv2[mask==1]\n",
    "\n",
    "plt.imshow(image)"
   ]
  },
  {
   "cell_type": "code",
   "execution_count": null,
   "id": "d4aa65a2-8e91-4ec0-a63c-0cc4db827bf7",
   "metadata": {},
   "outputs": [],
   "source": [
    "P = render.scene.camera.get_projection_matrix()\n",
    "V = render.scene.camera.get_view_matrix() \n",
    "# P1 = render.scene.camera.get_projection_matrix()#.T[:-1,:]\n",
    "\n",
    "point = np.array(pcd_r.points)[0]\n",
    "point = np.concatenate([point,np.ones(1)],axis=0)"
   ]
  },
  {
   "cell_type": "code",
   "execution_count": null,
   "id": "6dffd9f3-bb60-4d68-bcc3-54eb4db02cc4",
   "metadata": {},
   "outputs": [],
   "source": [
    "a = np.matmul(P,V)\n",
    "a = np.matmul(a,point)\n",
    "#a/= -a[-2]\n",
    "a/= a[-2]\n",
    "a[1]/= -1\n",
    "a[0]*=320 \n",
    "a[1]*=240\n",
    "#a*=240\n",
    "#a.astype(np.int32)\n",
    "a\n",
    "\n",
    "print(f\"({int(320+a[0])},{int(240+a[1])})\")"
   ]
  },
  {
   "cell_type": "code",
   "execution_count": null,
   "id": "9b7a396c-7562-44ac-9a8c-80a389626e70",
   "metadata": {},
   "outputs": [],
   "source": [
    "a"
   ]
  },
  {
   "cell_type": "code",
   "execution_count": null,
   "id": "d1106374-1d7b-4f47-80e6-a02a1f37313c",
   "metadata": {},
   "outputs": [],
   "source": [
    "240-156"
   ]
  },
  {
   "cell_type": "code",
   "execution_count": null,
   "id": "546d2484-2465-4ee8-8786-bc22346ddf33",
   "metadata": {},
   "outputs": [],
   "source": [
    "240-205"
   ]
  },
  {
   "cell_type": "code",
   "execution_count": null,
   "id": "ff0cf08e-807c-4232-bcef-f5b9b27d2204",
   "metadata": {},
   "outputs": [],
   "source": [
    "(156,205)"
   ]
  },
  {
   "cell_type": "code",
   "execution_count": null,
   "id": "d5c81b9e-16ba-44d9-a8e4-23b0ecdbb752",
   "metadata": {},
   "outputs": [],
   "source": [
    "point"
   ]
  },
  {
   "cell_type": "code",
   "execution_count": null,
   "id": "78308798-2333-4731-8826-232385577654",
   "metadata": {},
   "outputs": [],
   "source": [
    "P = np.zeros((4,4))\n",
    "fov = 1.0 / np.tan(0.279253/2.0)\n",
    "P[0,0] = fov*aspect_ratio\n",
    "P[1,1] = fov\n",
    "P[2,2] = far_plane/(far_plane-near_plane)\n",
    "P[3,2] = -1*(near_plane*far_plane)/(far_plane-near_plane)\n",
    "P[2,3] = 1\n",
    "P"
   ]
  },
  {
   "cell_type": "code",
   "execution_count": null,
   "id": "a49a0412-2297-46cd-b6e7-a5172e4606d5",
   "metadata": {},
   "outputs": [],
   "source": [
    "render.scene.camera.get_projection_matrix()"
   ]
  },
  {
   "cell_type": "code",
   "execution_count": null,
   "id": "b9eea490-0937-4486-8dad-b4afa2d7b735",
   "metadata": {},
   "outputs": [],
   "source": [
    "a = np.dot(P1,point)\n",
    "\n",
    "#PVM = np.dot(np.linalg.inv(K),PVM) \n",
    "# a = np.dot(PVM,point)\n",
    "# a[0]/=a[3]\n",
    "# a[1]/=a[3]\n",
    "#a/=-a[2]\n",
    "\n",
    "#a*=480\n",
    "#a.astype(np.int32)\n",
    "a\n",
    "print(f\"({int(480/2-a[0])},{int(480/2-a[1])})\")"
   ]
  },
  {
   "cell_type": "code",
   "execution_count": null,
   "id": "0dd5a697-021d-43ff-96e8-165a53519d00",
   "metadata": {},
   "outputs": [],
   "source": [
    "a[0]"
   ]
  },
  {
   "cell_type": "code",
   "execution_count": null,
   "id": "0216b43a-d1d0-41d5-8d14-00566f52b25f",
   "metadata": {},
   "outputs": [],
   "source": [
    "new_x = (a[0] * img_width )# / (2.0 * a[-1]) + img_width/2\n",
    "new_x"
   ]
  },
  {
   "cell_type": "code",
   "execution_count": null,
   "id": "0599c2c5-cd94-46ad-b83a-ec634ec3f365",
   "metadata": {},
   "outputs": [],
   "source": [
    "new_y = (a[1] * img_height) #/ (2.0 * a[-1]) + img_height/2\n",
    "new_y"
   ]
  },
  {
   "cell_type": "code",
   "execution_count": null,
   "id": "fca6230e-94f6-4d46-960b-461475a05fd2",
   "metadata": {},
   "outputs": [],
   "source": [
    "a"
   ]
  },
  {
   "cell_type": "code",
   "execution_count": null,
   "id": "089984a1-b742-48d7-9374-1607219161d8",
   "metadata": {},
   "outputs": [],
   "source": [
    "# Create a renderer with the desired image size\n",
    "img_width = 640\n",
    "img_height = 480\n",
    "render = o3d.visualization.rendering.OffscreenRenderer(img_width, img_height)\n",
    "\n",
    "# Pick a background colour (default is light gray)\n",
    "render.scene.set_background([1, 1, 1, 10.0])  # RGBA\n",
    "\n",
    "\n",
    "\n",
    "# Show the original coordinate axes for comparison.\n",
    "# X is red, Y is green and Z is blue.\n",
    "#render.scene.show_axes(True)\n",
    "\n",
    "# Define a simple unlit Material.\n",
    "# (The base color does not replace the arrows' own colors.)\n",
    "mtl = o3d.visualization.rendering.Material()\n",
    "mtl.base_color = [0.2,0.2,0.2,0.2]  # RGBA\n",
    "#mtl.absorption_color = [1.0,1.0,1.0]\n",
    "mtl.shader = \"defaultUnlit\"\n",
    "#mtl.normal_img = mesh_r.triangle_normals\n",
    "\n",
    "# Add the arrow mesh to the scene.\n",
    "# (These are thicker than the main axis arrows, but the same length.)\n",
    "render.scene.add_geometry(\"rotated_model\", mesh_r, mtl)\n",
    "#render.scene.add_geometry(\"rotated_model\", pcd_r, mtl)\n",
    "#render.scene.add_geometry(\"rotated_model\", pcd_r,mtl)\n",
    "\n",
    "# Since the arrow material is unlit, it is not necessary to change the scene lighting.\n",
    "render.scene.scene.enable_sun_light(True)\n",
    "render.scene.set_lighting(render.scene.LightingProfile.MED_SHADOWS, (0, 0, 5))\n",
    "\n",
    "\n",
    "# Optionally set the camera field of view (to zoom in a bit)\n",
    "vertical_field_of_view = 60  # between 5 and 90 degrees\n",
    "aspect_ratio = img_width / img_height  # azimuth over elevation\n",
    "near_plane = 0.1\n",
    "far_plane = 100.0\n",
    "fov_type = o3d.visualization.rendering.Camera.FovType.Vertical\n",
    "render.scene.camera.set_projection(vertical_field_of_view, aspect_ratio, near_plane, far_plane, fov_type)\n",
    "\n",
    "# Look at the origin from the front (along the -Z direction, into the screen), with Y as Up.\n",
    "center = [0, 0, 0]  # look_at target\n",
    "eye = [0, 0, 2.5]  # camera position\n",
    "up = [0, 1, 0]  # camera orientation\n",
    "render.scene.camera.look_at(center, eye, up)\n",
    "\n",
    "# Read the image into a variable\n",
    "img_o3d = render.render_to_image()\n",
    "\n",
    "# Display the image in a separate window\n",
    "# (Note: OpenCV expects the color in BGR format, so swop red and blue.)\n",
    "img_cv2 = cv2.cvtColor(np.array(img_o3d), cv2.COLOR_RGBA2RGB)\n",
    "#cv2.imshow(\"Preview window\", img_cv2)\n",
    "#cv2.waitKey()\n",
    "\n",
    "# Optionally write it to a PNG file\n",
    "#o3d.io.write_image(\"output.png\", img_o3d, 9)\n",
    "\n"
   ]
  },
  {
   "cell_type": "code",
   "execution_count": null,
   "id": "f1178037-92d2-48e4-a218-303bc8178f8f",
   "metadata": {},
   "outputs": [],
   "source": [
    "render.scene.camera.get_projection_matrix()"
   ]
  },
  {
   "cell_type": "code",
   "execution_count": null,
   "id": "6a198c75-44e4-4520-85ac-9ad5996a0cec",
   "metadata": {},
   "outputs": [],
   "source": [
    "plt.imshow(img_cv2)"
   ]
  },
  {
   "cell_type": "code",
   "execution_count": null,
   "id": "aaa7aab5-dfc7-4fff-8866-192f50af87a4",
   "metadata": {},
   "outputs": [],
   "source": [
    "#o3d.visualization.draw_geometries([mesh_r,pcd_r])"
   ]
  },
  {
   "cell_type": "code",
   "execution_count": null,
   "id": "e4cc7054-95a9-4341-adb4-64e0fd1dc854",
   "metadata": {},
   "outputs": [],
   "source": [
    "# image = cv2.imread('./head_pose/data/raw/archive/01/frame_00003_rgb.png')\n",
    "# plt.imshow(image)"
   ]
  },
  {
   "cell_type": "code",
   "execution_count": null,
   "id": "b7fe9123-944d-41a5-a0e2-08b7b67e6a2a",
   "metadata": {},
   "outputs": [],
   "source": [
    "vis = o3d.visualization.Visualizer() \n",
    "vis.create_window(visible = False,width=640, height=480) \n",
    "ctr = vis.get_view_control()\n",
    "ctr.get_field_of_view()\n",
    "\n",
    "camera = ctr.convert_to_pinhole_camera_parameters()\n",
    "intrinsic_matrix = camera.intrinsic.intrinsic_matrix.astype(np.float32)\n",
    "extrinsic_matrix = camera.extrinsic.astype(np.float32)\n",
    "#extrinsic_matrix[2,-1] = -60\n",
    "\n",
    "intrinsic_matrix = np.concatenate([intrinsic_matrix,np.zeros((3,1))],axis=1)\n",
    "#intrinsic_matrix = np.concatenate([intrinsic_matrix,np.zeros((1,4))],axis=0)\n",
    "# intrinsic_matrix[0,0]/=480\n",
    "# intrinsic_matrix[1,1]/=480\n",
    "\n",
    "point = np.array(pcd_r.points)[0]\n",
    "point = np.concatenate([point,np.ones(1)],axis=0)\n",
    "\n",
    "P = np.matmul(intrinsic_matrix,extrinsic_matrix)\n",
    "\n",
    "a = np.matmul(P,point)\n",
    "a/=a[-1]\n",
    "a.astype(np.int32)"
   ]
  },
  {
   "cell_type": "code",
   "execution_count": null,
   "id": "9e2df3f6-67a4-4ea4-92bd-f6ec0520705c",
   "metadata": {},
   "outputs": [],
   "source": [
    "camera.extrinsic"
   ]
  },
  {
   "cell_type": "code",
   "execution_count": null,
   "id": "fe37a200-1a71-4260-b633-5164f55c4bf8",
   "metadata": {},
   "outputs": [],
   "source": [
    "start = time()\n",
    "\n",
    "\n",
    "mesh_r = copy.deepcopy(mesh)\n",
    "mesh_r.rotate(R, center=(0, 0, 0))\n",
    "\n",
    "pcd_r = copy.deepcopy(pcd)\n",
    "pcd_r.rotate(R, center=(0, 0, 0))\n",
    "\n",
    "vis.add_geometry(mesh_r) \n",
    "vis.add_geometry(pcd_r) \n",
    "#ctr.set_zoom(1)\n",
    "img = vis.capture_screen_float_buffer(True)\n",
    "img = np.asarray(img)\n",
    "\n",
    "\n",
    "\n",
    "print(1/(time() - start))\n",
    "\n",
    "\n",
    "\n",
    "#frame = cv2.circle(img, (230,210), radius=2, color=(0, 0, 255), thickness=2)\n",
    "#frame = cv2.circle(img, (325,438), radius=2, color=(0, 0, 1), thickness=2)\n",
    "#frame = cv2.circle(img, (300,200), radius=4, color=(0, 255, 0), thickness=4)\n",
    "#frame = cv2.circle(img, (238,240), radius=4, color=(0, 0, 255), thickness=4)\n",
    "\n",
    "\n",
    "#plt.imshow(img[200:220,220:240,:])\n",
    "#plt.imshow(img[200:220,400:420,:])\n",
    "plt.imshow(img)\n",
    "\n",
    "vis.remove_geometry(mesh_r)\n",
    "vis.remove_geometry(pcd_r) "
   ]
  },
  {
   "cell_type": "code",
   "execution_count": null,
   "id": "d4bfd392-ab9f-4eac-8b32-6623d5ab0ff7",
   "metadata": {},
   "outputs": [],
   "source": [
    "plt.imshow(img_cv2)"
   ]
  },
  {
   "cell_type": "code",
   "execution_count": null,
   "id": "bc0fd1c1-649b-47bb-9a7c-8abd0c321df1",
   "metadata": {},
   "outputs": [],
   "source": [
    "\n",
    "diff = np.abs(img_cv2.astype(np.float32)-img.astype(np.float32)*255)\n",
    "diff[diff > 254] = 254\n",
    "plt.imshow(diff)"
   ]
  },
  {
   "cell_type": "code",
   "execution_count": null,
   "id": "cb6dea63-c142-45b0-9f24-6e2f7a8d8202",
   "metadata": {},
   "outputs": [],
   "source": [
    "img"
   ]
  },
  {
   "cell_type": "code",
   "execution_count": null,
   "id": "dfe5214a-d0da-4845-9466-e0106a9af71f",
   "metadata": {},
   "outputs": [],
   "source": [
    "img_cv2-img\n"
   ]
  },
  {
   "cell_type": "code",
   "execution_count": null,
   "id": "2ed1af5f-dc6f-49ac-a476-2a69829ab759",
   "metadata": {},
   "outputs": [],
   "source": [
    "640-485"
   ]
  },
  {
   "cell_type": "code",
   "execution_count": null,
   "id": "75c13858-bc08-4679-b60e-5523930116c2",
   "metadata": {},
   "outputs": [],
   "source": [
    "204, -85"
   ]
  },
  {
   "cell_type": "code",
   "execution_count": null,
   "id": "9a40cb56-653c-41c2-8198-d79143298735",
   "metadata": {},
   "outputs": [],
   "source": [
    "img.shape"
   ]
  },
  {
   "cell_type": "code",
   "execution_count": null,
   "id": "8917639c-ed89-473b-8d26-0c03d6878f7d",
   "metadata": {},
   "outputs": [],
   "source": [
    "# Show the original coordinate axes for comparison.\n",
    "# X is red, Y is green and Z is blue.\n",
    "#render.scene.show_axes(True)\n",
    "\n",
    "# Define a simple unlit Material.\n",
    "# (The base color does not replace the arrows' own colors.)\n",
    "mtl = o3d.visualization.rendering.Material()\n",
    "mtl.base_color = [1.0, 1.0, 1.0, 1.0]  # RGBA\n",
    "mtl.shader = \"defaultUnlit\"\n",
    "\n",
    "# Add the arrow mesh to the scene.\n",
    "# (These are thicker than the main axis arrows, but the same length.)\n",
    "render.scene.add_geometry(\"rotated_model\", mesh_r, mtl)"
   ]
  },
  {
   "cell_type": "code",
   "execution_count": null,
   "id": "c348aee9-c9f3-4651-9a1c-f09fbf12acf0",
   "metadata": {},
   "outputs": [],
   "source": [
    "# Since the arrow material is unlit, it is not necessary to change the scene lighting.\n",
    "#render.scene.scene.enable_sun_light(False)\n",
    "#render.scene.set_lighting(render.scene.LightingProfile.NO_SHADOWS, (0, 0, 0))\n",
    "\n",
    "# Optionally set the camera field of view (to zoom in a bit)\n",
    "vertical_field_of_view = 15.0  # between 5 and 90 degrees\n",
    "aspect_ratio = img_width / img_height  # azimuth over elevation\n",
    "near_plane = 0.1\n",
    "far_plane = 50\n",
    "fov_type = o3d.visualization.rendering.Camera.FovType.Vertical\n",
    "render.scene.camera.set_projection(vertical_field_of_view, aspect_ratio, near_plane, far_plane, fov_type)"
   ]
  },
  {
   "cell_type": "code",
   "execution_count": null,
   "id": "83a438f8-a20a-4de4-9d75-aa7b6acbd259",
   "metadata": {},
   "outputs": [],
   "source": [
    "# Look at the origin from the front (along the -Z direction, into the screen), with Y as Up.\n",
    "center = [0, 0, 0]  # look_at target\n",
    "eye = [0, 0, 10]  # camera position\n",
    "up = [0, 1, 0]  # camera orientation\n",
    "render.scene.camera.look_at(center, eye, up)"
   ]
  },
  {
   "cell_type": "code",
   "execution_count": null,
   "id": "7064e2be-d2df-4eb7-9753-f412b46ed956",
   "metadata": {},
   "outputs": [],
   "source": [
    "\n",
    "\n",
    "# Read the image into a variable\n",
    "img_o3d = render.render_to_image()\n",
    "img_o3d = np.array(img_o3d)\n",
    "\n",
    "# Display the image in a separate window\n",
    "# (Note: OpenCV expects the color in BGR format, so swop red and blue.)\n",
    "#img_cv2 = cv2.cvtColor(img_o3d, cv2.COLOR_RGBA2BGRA)\n",
    "#cv2.imshow(\"Preview window\", img_cv2)\n",
    "#cv2.waitKey()\n",
    "\n",
    "# Optionally write it to a PNG file\n",
    "#o3d.io.write_image(\"output.png\", img_o3d, 9)\n"
   ]
  },
  {
   "cell_type": "code",
   "execution_count": null,
   "id": "5089383c-86cb-49e5-9921-ab5adbce3a33",
   "metadata": {},
   "outputs": [],
   "source": [
    "plt.imshow(img_o3d)"
   ]
  },
  {
   "cell_type": "code",
   "execution_count": null,
   "id": "d7ef68f1-44cb-4f4c-b8fc-93ab85cbeb6e",
   "metadata": {},
   "outputs": [],
   "source": []
  }
 ],
 "metadata": {
  "kernelspec": {
   "display_name": "Python 3 (ipykernel)",
   "language": "python",
   "name": "python3"
  },
  "language_info": {
   "codemirror_mode": {
    "name": "ipython",
    "version": 3
   },
   "file_extension": ".py",
   "mimetype": "text/x-python",
   "name": "python",
   "nbconvert_exporter": "python",
   "pygments_lexer": "ipython3",
   "version": "3.7.11"
  }
 },
 "nbformat": 4,
 "nbformat_minor": 5
}
