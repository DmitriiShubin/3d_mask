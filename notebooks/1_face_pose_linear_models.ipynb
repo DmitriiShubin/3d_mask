{
 "cells": [
  {
   "cell_type": "code",
   "execution_count": 1,
   "metadata": {},
   "outputs": [
    {
     "name": "stdout",
     "output_type": "stream",
     "text": [
      "/home/dmitriishubin/Desktop/Projects/mask\n"
     ]
    }
   ],
   "source": [
    "cd .."
   ]
  },
  {
   "cell_type": "code",
   "execution_count": 2,
   "metadata": {},
   "outputs": [],
   "source": [
    "import pandas as pd\n",
    "import numpy as np\n",
    "\n",
    "import seaborn as sns\n",
    "import matplotlib.pyplot as plt\n",
    "import seaborn as sns\n",
    "import gc\n",
    "import os\n",
    "import json\n",
    "import pickle\n",
    "\n",
    "from sklearn.linear_model import LinearRegression,Ridge\n",
    "from sklearn.gaussian_process import GaussianProcessRegressor\n",
    "from sklearn.gaussian_process.kernels import DotProduct, WhiteKernel\n",
    "from sklearn.svm import SVR\n",
    "from sklearn.model_selection import GroupKFold\n",
    "from sklearn.metrics import mean_absolute_error as mae\n",
    "from sklearn.metrics import mean_squared_error as mse"
   ]
  },
  {
   "cell_type": "code",
   "execution_count": 3,
   "metadata": {},
   "outputs": [
    {
     "data": {
      "text/html": [
       "<div>\n",
       "<style scoped>\n",
       "    .dataframe tbody tr th:only-of-type {\n",
       "        vertical-align: middle;\n",
       "    }\n",
       "\n",
       "    .dataframe tbody tr th {\n",
       "        vertical-align: top;\n",
       "    }\n",
       "\n",
       "    .dataframe thead th {\n",
       "        text-align: right;\n",
       "    }\n",
       "</style>\n",
       "<table border=\"1\" class=\"dataframe\">\n",
       "  <thead>\n",
       "    <tr style=\"text-align: right;\">\n",
       "      <th></th>\n",
       "      <th>upper_sides_proportion</th>\n",
       "      <th>vertical_sides_proportion</th>\n",
       "      <th>alpha</th>\n",
       "      <th>beta</th>\n",
       "      <th>gamma</th>\n",
       "      <th>person_id</th>\n",
       "      <th>theta_x</th>\n",
       "      <th>theta_y</th>\n",
       "      <th>theta_z</th>\n",
       "    </tr>\n",
       "  </thead>\n",
       "  <tbody>\n",
       "    <tr>\n",
       "      <th>0</th>\n",
       "      <td>0.990156</td>\n",
       "      <td>0.414859</td>\n",
       "      <td>40.109598</td>\n",
       "      <td>40.591160</td>\n",
       "      <td>99.299242</td>\n",
       "      <td>1</td>\n",
       "      <td>-7.705271</td>\n",
       "      <td>3.053093</td>\n",
       "      <td>-1.991137</td>\n",
       "    </tr>\n",
       "    <tr>\n",
       "      <th>1</th>\n",
       "      <td>0.975714</td>\n",
       "      <td>0.452508</td>\n",
       "      <td>41.561740</td>\n",
       "      <td>42.838921</td>\n",
       "      <td>95.599339</td>\n",
       "      <td>1</td>\n",
       "      <td>-7.792844</td>\n",
       "      <td>3.595073</td>\n",
       "      <td>-2.435243</td>\n",
       "    </tr>\n",
       "    <tr>\n",
       "      <th>2</th>\n",
       "      <td>0.975714</td>\n",
       "      <td>0.452508</td>\n",
       "      <td>41.561740</td>\n",
       "      <td>42.838921</td>\n",
       "      <td>95.599339</td>\n",
       "      <td>1</td>\n",
       "      <td>-7.578725</td>\n",
       "      <td>3.379035</td>\n",
       "      <td>-2.408475</td>\n",
       "    </tr>\n",
       "    <tr>\n",
       "      <th>3</th>\n",
       "      <td>0.978068</td>\n",
       "      <td>0.471363</td>\n",
       "      <td>42.762374</td>\n",
       "      <td>43.962223</td>\n",
       "      <td>93.275403</td>\n",
       "      <td>1</td>\n",
       "      <td>-7.591798</td>\n",
       "      <td>3.515111</td>\n",
       "      <td>-2.377601</td>\n",
       "    </tr>\n",
       "    <tr>\n",
       "      <th>4</th>\n",
       "      <td>0.978068</td>\n",
       "      <td>0.471363</td>\n",
       "      <td>42.762374</td>\n",
       "      <td>43.962223</td>\n",
       "      <td>93.275403</td>\n",
       "      <td>1</td>\n",
       "      <td>-7.863294</td>\n",
       "      <td>3.113472</td>\n",
       "      <td>-2.569418</td>\n",
       "    </tr>\n",
       "    <tr>\n",
       "      <th>5</th>\n",
       "      <td>0.978068</td>\n",
       "      <td>0.471363</td>\n",
       "      <td>42.762374</td>\n",
       "      <td>43.962223</td>\n",
       "      <td>93.275403</td>\n",
       "      <td>1</td>\n",
       "      <td>-7.699312</td>\n",
       "      <td>3.733324</td>\n",
       "      <td>-2.758288</td>\n",
       "    </tr>\n",
       "    <tr>\n",
       "      <th>6</th>\n",
       "      <td>0.978068</td>\n",
       "      <td>0.471363</td>\n",
       "      <td>42.762374</td>\n",
       "      <td>43.962223</td>\n",
       "      <td>93.275403</td>\n",
       "      <td>1</td>\n",
       "      <td>-7.678917</td>\n",
       "      <td>3.344098</td>\n",
       "      <td>-2.301312</td>\n",
       "    </tr>\n",
       "    <tr>\n",
       "      <th>7</th>\n",
       "      <td>0.978068</td>\n",
       "      <td>0.471363</td>\n",
       "      <td>42.762374</td>\n",
       "      <td>43.962223</td>\n",
       "      <td>93.275403</td>\n",
       "      <td>1</td>\n",
       "      <td>-7.832590</td>\n",
       "      <td>3.457985</td>\n",
       "      <td>-2.666504</td>\n",
       "    </tr>\n",
       "    <tr>\n",
       "      <th>8</th>\n",
       "      <td>0.978068</td>\n",
       "      <td>0.471363</td>\n",
       "      <td>42.762374</td>\n",
       "      <td>43.962223</td>\n",
       "      <td>93.275403</td>\n",
       "      <td>1</td>\n",
       "      <td>-7.625574</td>\n",
       "      <td>3.275614</td>\n",
       "      <td>-2.646087</td>\n",
       "    </tr>\n",
       "    <tr>\n",
       "      <th>9</th>\n",
       "      <td>0.978068</td>\n",
       "      <td>0.471363</td>\n",
       "      <td>42.762374</td>\n",
       "      <td>43.962223</td>\n",
       "      <td>93.275403</td>\n",
       "      <td>1</td>\n",
       "      <td>-7.724696</td>\n",
       "      <td>3.497265</td>\n",
       "      <td>-2.444372</td>\n",
       "    </tr>\n",
       "  </tbody>\n",
       "</table>\n",
       "</div>"
      ],
      "text/plain": [
       "   upper_sides_proportion  vertical_sides_proportion      alpha       beta  \\\n",
       "0                0.990156                   0.414859  40.109598  40.591160   \n",
       "1                0.975714                   0.452508  41.561740  42.838921   \n",
       "2                0.975714                   0.452508  41.561740  42.838921   \n",
       "3                0.978068                   0.471363  42.762374  43.962223   \n",
       "4                0.978068                   0.471363  42.762374  43.962223   \n",
       "5                0.978068                   0.471363  42.762374  43.962223   \n",
       "6                0.978068                   0.471363  42.762374  43.962223   \n",
       "7                0.978068                   0.471363  42.762374  43.962223   \n",
       "8                0.978068                   0.471363  42.762374  43.962223   \n",
       "9                0.978068                   0.471363  42.762374  43.962223   \n",
       "\n",
       "       gamma  person_id   theta_x   theta_y   theta_z  \n",
       "0  99.299242          1 -7.705271  3.053093 -1.991137  \n",
       "1  95.599339          1 -7.792844  3.595073 -2.435243  \n",
       "2  95.599339          1 -7.578725  3.379035 -2.408475  \n",
       "3  93.275403          1 -7.591798  3.515111 -2.377601  \n",
       "4  93.275403          1 -7.863294  3.113472 -2.569418  \n",
       "5  93.275403          1 -7.699312  3.733324 -2.758288  \n",
       "6  93.275403          1 -7.678917  3.344098 -2.301312  \n",
       "7  93.275403          1 -7.832590  3.457985 -2.666504  \n",
       "8  93.275403          1 -7.625574  3.275614 -2.646087  \n",
       "9  93.275403          1 -7.724696  3.497265 -2.444372  "
      ]
     },
     "execution_count": 3,
     "metadata": {},
     "output_type": "execute_result"
    }
   ],
   "source": [
    "DATA_PATH = './data/face_pose_processed/'\n",
    "OUT_MODEL_PATH = './data/face_pose_models/'\n",
    "\n",
    "df = pd.read_csv(DATA_PATH+'data.csv')\n",
    "df = df.dropna()\n",
    "df = df[df.upper_sides_proportion< 1.75]\n",
    "df.head(10)"
   ]
  },
  {
   "cell_type": "markdown",
   "metadata": {},
   "source": [
    "# Explore target "
   ]
  },
  {
   "cell_type": "code",
   "execution_count": 4,
   "metadata": {},
   "outputs": [
    {
     "data": {
      "text/plain": [
       "<seaborn.axisgrid.FacetGrid at 0x7fd896511f90>"
      ]
     },
     "execution_count": 4,
     "metadata": {},
     "output_type": "execute_result"
    },
    {
     "data": {
      "text/plain": [
       "<Figure size 720x720 with 0 Axes>"
      ]
     },
     "metadata": {},
     "output_type": "display_data"
    },
    {
     "data": {
      "image/png": "[encoded data removed]",
      "text/plain": [
       "<Figure size 360x360 with 1 Axes>"
      ]
     },
     "metadata": {
      "needs_background": "light"
     },
     "output_type": "display_data"
    },
    {
     "data": {
      "text/plain": [
       "<Figure size 720x720 with 0 Axes>"
      ]
     },
     "metadata": {},
     "output_type": "display_data"
    },
    {
     "data": {
      "image/png": "[encoded data removed]",
      "text/plain": [
       "<Figure size 360x360 with 1 Axes>"
      ]
     },
     "metadata": {
      "needs_background": "light"
     },
     "output_type": "display_data"
    },
    {
     "data": {
      "text/plain": [
       "<Figure size 720x720 with 0 Axes>"
      ]
     },
     "metadata": {},
     "output_type": "display_data"
    },
    {
     "data": {
      "image/png": "[encoded data removed]",
      "text/plain": [
       "<Figure size 360x360 with 1 Axes>"
      ]
     },
     "metadata": {
      "needs_background": "light"
     },
     "output_type": "display_data"
    }
   ],
   "source": [
    "fig = plt.figure(figsize=(10,10))\n",
    "sns.displot(df['theta_x'])\n",
    "\n",
    "fig = plt.figure(figsize=(10,10))\n",
    "sns.displot(df['theta_y'])\n",
    "\n",
    "fig = plt.figure(figsize=(10,10))\n",
    "sns.displot(df['theta_z'])"
   ]
  },
  {
   "cell_type": "code",
   "execution_count": 5,
   "metadata": {},
   "outputs": [
    {
     "data": {
      "text/plain": [
       "[<matplotlib.lines.Line2D at 0x7fd89631b290>]"
      ]
     },
     "execution_count": 5,
     "metadata": {},
     "output_type": "execute_result"
    },
    {
     "data": {
      "image/png": "[encoded data removed]",
      "text/plain": [
       "<Figure size 432x288 with 1 Axes>"
      ]
     },
     "metadata": {
      "needs_background": "light"
     },
     "output_type": "display_data"
    }
   ],
   "source": [
    "plt.plot(df.theta_x,df.vertical_sides_proportion,'*')"
   ]
  },
  {
   "cell_type": "markdown",
   "metadata": {},
   "source": [
    "# Theta Y model"
   ]
  },
  {
   "cell_type": "code",
   "execution_count": 6,
   "metadata": {},
   "outputs": [
    {
     "data": {
      "text/html": [
       "<div>\n",
       "<style scoped>\n",
       "    .dataframe tbody tr th:only-of-type {\n",
       "        vertical-align: middle;\n",
       "    }\n",
       "\n",
       "    .dataframe tbody tr th {\n",
       "        vertical-align: top;\n",
       "    }\n",
       "\n",
       "    .dataframe thead th {\n",
       "        text-align: right;\n",
       "    }\n",
       "</style>\n",
       "<table border=\"1\" class=\"dataframe\">\n",
       "  <thead>\n",
       "    <tr style=\"text-align: right;\">\n",
       "      <th></th>\n",
       "      <th>upper_sides_proportion</th>\n",
       "      <th>vertical_sides_proportion</th>\n",
       "      <th>alpha</th>\n",
       "      <th>beta</th>\n",
       "      <th>gamma</th>\n",
       "      <th>person_id</th>\n",
       "      <th>theta_x</th>\n",
       "      <th>theta_y</th>\n",
       "      <th>theta_z</th>\n",
       "    </tr>\n",
       "  </thead>\n",
       "  <tbody>\n",
       "    <tr>\n",
       "      <th>0</th>\n",
       "      <td>0.990156</td>\n",
       "      <td>0.414859</td>\n",
       "      <td>40.109598</td>\n",
       "      <td>40.591160</td>\n",
       "      <td>99.299242</td>\n",
       "      <td>1</td>\n",
       "      <td>-7.705271</td>\n",
       "      <td>3.053093</td>\n",
       "      <td>-1.991137</td>\n",
       "    </tr>\n",
       "    <tr>\n",
       "      <th>1</th>\n",
       "      <td>0.975714</td>\n",
       "      <td>0.452508</td>\n",
       "      <td>41.561740</td>\n",
       "      <td>42.838921</td>\n",
       "      <td>95.599339</td>\n",
       "      <td>1</td>\n",
       "      <td>-7.792844</td>\n",
       "      <td>3.595073</td>\n",
       "      <td>-2.435243</td>\n",
       "    </tr>\n",
       "    <tr>\n",
       "      <th>2</th>\n",
       "      <td>0.975714</td>\n",
       "      <td>0.452508</td>\n",
       "      <td>41.561740</td>\n",
       "      <td>42.838921</td>\n",
       "      <td>95.599339</td>\n",
       "      <td>1</td>\n",
       "      <td>-7.578725</td>\n",
       "      <td>3.379035</td>\n",
       "      <td>-2.408475</td>\n",
       "    </tr>\n",
       "    <tr>\n",
       "      <th>3</th>\n",
       "      <td>0.978068</td>\n",
       "      <td>0.471363</td>\n",
       "      <td>42.762374</td>\n",
       "      <td>43.962223</td>\n",
       "      <td>93.275403</td>\n",
       "      <td>1</td>\n",
       "      <td>-7.591798</td>\n",
       "      <td>3.515111</td>\n",
       "      <td>-2.377601</td>\n",
       "    </tr>\n",
       "    <tr>\n",
       "      <th>4</th>\n",
       "      <td>0.978068</td>\n",
       "      <td>0.471363</td>\n",
       "      <td>42.762374</td>\n",
       "      <td>43.962223</td>\n",
       "      <td>93.275403</td>\n",
       "      <td>1</td>\n",
       "      <td>-7.863294</td>\n",
       "      <td>3.113472</td>\n",
       "      <td>-2.569418</td>\n",
       "    </tr>\n",
       "  </tbody>\n",
       "</table>\n",
       "</div>"
      ],
      "text/plain": [
       "   upper_sides_proportion  vertical_sides_proportion      alpha       beta  \\\n",
       "0                0.990156                   0.414859  40.109598  40.591160   \n",
       "1                0.975714                   0.452508  41.561740  42.838921   \n",
       "2                0.975714                   0.452508  41.561740  42.838921   \n",
       "3                0.978068                   0.471363  42.762374  43.962223   \n",
       "4                0.978068                   0.471363  42.762374  43.962223   \n",
       "\n",
       "       gamma  person_id   theta_x   theta_y   theta_z  \n",
       "0  99.299242          1 -7.705271  3.053093 -1.991137  \n",
       "1  95.599339          1 -7.792844  3.595073 -2.435243  \n",
       "2  95.599339          1 -7.578725  3.379035 -2.408475  \n",
       "3  93.275403          1 -7.591798  3.515111 -2.377601  \n",
       "4  93.275403          1 -7.863294  3.113472 -2.569418  "
      ]
     },
     "execution_count": 6,
     "metadata": {},
     "output_type": "execute_result"
    }
   ],
   "source": [
    "df.head()"
   ]
  },
  {
   "cell_type": "code",
   "execution_count": 7,
   "metadata": {},
   "outputs": [
    {
     "name": "stdout",
     "output_type": "stream",
     "text": [
      "Person_id, train: [1 2 3 4]\n",
      "Person_id, val: [5]\n",
      "MAE: 11.884336167325595\n",
      "MSE: 204.580688587451\n",
      "Person_id, train: [2 3 5]\n",
      "Person_id, val: [1 4]\n",
      "MAE: 15.44299063624124\n",
      "MSE: 396.82697207592156\n",
      "Person_id, train: [1 4 5]\n",
      "Person_id, val: [2 3]\n",
      "MAE: 15.193944273560987\n",
      "MSE: 339.4932139534523\n"
     ]
    }
   ],
   "source": [
    "model = LinearRegression()\n",
    "#model = SVR(kernel='linear',degree=1,C=10)\n",
    "#model = Ridge()\n",
    "\n",
    "kf = GroupKFold(n_splits=3)\n",
    "\n",
    "X = df['upper_sides_proportion'].values\n",
    "y = df['theta_y'].values\n",
    "groups = df['person_id'].values\n",
    "\n",
    "for (index_train,index_val) in kf.split(X, y, groups):\n",
    "    X_train,X_val = X[index_train],X[index_val]\n",
    "    \n",
    "    y_train,y_val = y[index_train],y[index_val]\n",
    "    group_train,group_val = groups[index_train],groups[index_val]\n",
    "    \n",
    "    model.fit(X=X_train.reshape(-1,1),y=y_train)\n",
    "    \n",
    "    preds = model.predict(X_val.reshape(-1,1))\n",
    "    \n",
    "    print(f'Person_id, train: {np.unique(group_train)}')\n",
    "    print(f'Person_id, val: {np.unique(group_val)}')\n",
    "    \n",
    "    print(f'MAE: {mae(y_true=y_val,y_pred=preds)}')\n",
    "    print(f'MSE: {mse(y_true=y_val,y_pred=preds)}')\n",
    "    \n",
    "    "
   ]
  },
  {
   "cell_type": "code",
   "execution_count": 8,
   "metadata": {},
   "outputs": [
    {
     "data": {
      "text/plain": [
       "LinearRegression()"
      ]
     },
     "execution_count": 8,
     "metadata": {},
     "output_type": "execute_result"
    }
   ],
   "source": [
    "#X_ideal = np.array([1.7,1,0.3])\n",
    "X_ideal = np.array([1.5,1,0.5])\n",
    "y_ideal = np.array([-40,0, 40])\n",
    "\n",
    "model.fit(X=X_ideal.reshape(-1,1),y=y_ideal)"
   ]
  },
  {
   "cell_type": "code",
   "execution_count": 9,
   "metadata": {},
   "outputs": [
    {
     "data": {
      "text/plain": [
       "[<matplotlib.lines.Line2D at 0x7fd8942bf610>]"
      ]
     },
     "execution_count": 9,
     "metadata": {},
     "output_type": "execute_result"
    },
    {
     "data": {
      "image/png": "[encoded data removed]",
      "text/plain": [
       "<Figure size 432x288 with 1 Axes>"
      ]
     },
     "metadata": {
      "needs_background": "light"
     },
     "output_type": "display_data"
    }
   ],
   "source": [
    "probbing = model.predict(df.upper_sides_proportion.values.reshape(-1,1))\n",
    "\n",
    "plt.plot(df.theta_y,df.upper_sides_proportion,'*')\n",
    "plt.plot(probbing,df.upper_sides_proportion,'*')"
   ]
  },
  {
   "cell_type": "code",
   "execution_count": 10,
   "metadata": {},
   "outputs": [],
   "source": [
    "pickle.dump(model, open(OUT_MODEL_PATH+'linear_model_theta_y.pkl', 'wb'))"
   ]
  },
  {
   "cell_type": "markdown",
   "metadata": {},
   "source": [
    "# Theta X model"
   ]
  },
  {
   "cell_type": "code",
   "execution_count": 11,
   "metadata": {},
   "outputs": [
    {
     "name": "stdout",
     "output_type": "stream",
     "text": [
      "Person_id, train: [1 2 3 4]\n",
      "Person_id, val: [5]\n",
      "MAE: 10.070412230986378\n",
      "MSE: 152.07108471225192\n",
      "Person_id, train: [2 3 5]\n",
      "Person_id, val: [1 4]\n",
      "MAE: 16.28941751208072\n",
      "MSE: 383.87331968289897\n",
      "Person_id, train: [1 4 5]\n",
      "Person_id, val: [2 3]\n",
      "MAE: 17.574688636835518\n",
      "MSE: 441.2869556849316\n"
     ]
    }
   ],
   "source": [
    "model = LinearRegression()\n",
    "#model = SVR(kernel='linear',degree=1,C=10)\n",
    "#model = Ridge()\n",
    "#DotProduct, WhiteKernel\n",
    "#model = GaussianProcessRegressor(kernel=WhiteKernel())\n",
    "\n",
    "kf = GroupKFold(n_splits=3)\n",
    "\n",
    "X = df.vertical_sides_proportion.values\n",
    "y = df['theta_x'].values\n",
    "groups = df['person_id'].values\n",
    "\n",
    "for (index_train,index_val) in kf.split(X, y, groups):\n",
    "    X_train,X_val = X[index_train],X[index_val]\n",
    "    \n",
    "    y_train,y_val = y[index_train],y[index_val]\n",
    "    group_train,group_val = groups[index_train],groups[index_val]\n",
    "    \n",
    "    model.fit(X=X_train.reshape(-1,1),y=y_train)\n",
    "    \n",
    "    preds = model.predict(X_val.reshape(-1,1))\n",
    "    \n",
    "    print(f'Person_id, train: {np.unique(group_train)}')\n",
    "    print(f'Person_id, val: {np.unique(group_val)}')\n",
    "    \n",
    "    print(f'MAE: {mae(y_true=y_val,y_pred=preds)}')\n",
    "    print(f'MSE: {mse(y_true=y_val,y_pred=preds)}')"
   ]
  },
  {
   "cell_type": "code",
   "execution_count": 12,
   "metadata": {},
   "outputs": [
    {
     "data": {
      "text/plain": [
       "LinearRegression()"
      ]
     },
     "execution_count": 12,
     "metadata": {},
     "output_type": "execute_result"
    }
   ],
   "source": [
    "#X_ideal = np.array([1.7,1,0.3])\n",
    "X_ideal = np.array([0.6,0.4,0.2])\n",
    "y_ideal = np.array([-70,0, 60])\n",
    "\n",
    "model.fit(X=X_ideal.reshape(-1,1),y=y_ideal)"
   ]
  },
  {
   "cell_type": "code",
   "execution_count": 13,
   "metadata": {},
   "outputs": [
    {
     "data": {
      "text/plain": [
       "[<matplotlib.lines.Line2D at 0x7fd8941d3310>]"
      ]
     },
     "execution_count": 13,
     "metadata": {},
     "output_type": "execute_result"
    },
    {
     "data": {
      "image/png": "[encoded data removed]",
      "text/plain": [
       "<Figure size 432x288 with 1 Axes>"
      ]
     },
     "metadata": {
      "needs_background": "light"
     },
     "output_type": "display_data"
    }
   ],
   "source": [
    "probbing = model.predict(df[['vertical_sides_proportion']].values)\n",
    "\n",
    "plt.plot(df.theta_x,df.vertical_sides_proportion,'*')\n",
    "plt.plot(probbing,df.vertical_sides_proportion,'*')\n"
   ]
  },
  {
   "cell_type": "code",
   "execution_count": 14,
   "metadata": {},
   "outputs": [],
   "source": [
    "pickle.dump(model, open(OUT_MODEL_PATH+'linear_model_theta_x.pkl', 'wb'))"
   ]
  }
 ],
 "metadata": {
  "kernelspec": {
   "display_name": "Python 3 (ipykernel)",
   "language": "python",
   "name": "python3"
  },
  "language_info": {
   "codemirror_mode": {
    "name": "ipython",
    "version": 3
   },
   "file_extension": ".py",
   "mimetype": "text/x-python",
   "name": "python",
   "nbconvert_exporter": "python",
   "pygments_lexer": "ipython3",
   "version": "3.7.11"
  },
  "pycharm": {
   "stem_cell": {
    "cell_type": "raw",
    "metadata": {
     "collapsed": false
    },
    "source": []
   }
  }
 },
 "nbformat": 4,
 "nbformat_minor": 4
}
