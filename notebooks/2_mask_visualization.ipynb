{
 "cells": [
  {
   "cell_type": "code",
   "execution_count": 1,
   "metadata": {},
   "outputs": [
    {
     "name": "stdout",
     "output_type": "stream",
     "text": [
      "/home/dmitriishubin/Desktop/Projects/mask\n"
     ]
    }
   ],
   "source": [
    "cd .."
   ]
  },
  {
   "cell_type": "code",
   "execution_count": 3,
   "metadata": {},
   "outputs": [],
   "source": [
    "import pyvista as pv\n",
    "from pyvista import examples\n",
    "import numpy as np\n",
    "import copy\n",
    "import cv2\n",
    "from time import time\n",
    "import matplotlib.pyplot as plt\n",
    "\n",
    "import pyvista as pv\n",
    "import vtk"
   ]
  },
  {
   "cell_type": "code",
   "execution_count": null,
   "metadata": {},
   "outputs": [],
   "source": [
    "def trans_to_matrix(trans):\n",
    "    \"\"\"Convert a numpy.ndarray to a vtk.vtkMatrix4x4 \"\"\"\n",
    "    matrix = vtk.vtkMatrix4x4()\n",
    "    for i in range(trans.shape[0]):\n",
    "        for j in range(trans.shape[1]):\n",
    "            matrix.SetElement(i, j, trans[i, j])\n",
    "    return matrix"
   ]
  },
  {
   "cell_type": "code",
   "execution_count": null,
   "metadata": {},
   "outputs": [],
   "source": [
    "mesh = pv.read(\"./data/3d_models/mask-low/source/rv6h86r8l3oj.obj\")\n",
    "tex = pv.read_texture(\"./data/3d_models/mask-low/textures/Mask_low_Low_Mtl_BaseColor.png\")\n",
    "\n",
    "#scale\n",
    "points = mesh.extract_feature_edges()\n",
    "points = points.points\n",
    "\n",
    "mesh.translate(-1*np.mean(points,axis=0))\n",
    "\n",
    "points = mesh.extract_feature_edges()\n",
    "points = points.points\n",
    "mesh.scale(1/np.max(np.abs(points)))\n",
    "\n",
    "\n",
    "\n",
    "\n",
    "#mesh.plot(cpos='xy', jupyter_backend='ipygany', show_scalar_bar=True)\n",
    "#mesh.plot(cpos='xy', jupyter_backend='ipygany', show_scalar_bar=True)\n",
    "\n",
    "points = np.array([(0.1,0.5,0.1)])\n",
    "\n",
    "poly = pv.PolyData(points)\n",
    "#poly.plot(eye_dome_lighting=True)\n",
    "#poly.plot(cpos='xy', jupyter_backend='ipygany', show_scalar_bar=True)"
   ]
  },
  {
   "cell_type": "code",
   "execution_count": null,
   "metadata": {
    "scrolled": true,
    "tags": []
   },
   "outputs": [],
   "source": [
    "\n",
    "\n",
    "camera = pv.Camera()\n",
    "camera.position = [0, 0, 10]\n",
    "\n",
    "axes = pv.Axes(show_actor=True, actor_scale=2.0, line_width=5)\n",
    "\n",
    "#camera.direction = (0, 0, 0)\n",
    "\n",
    "near_range = 0.1\n",
    "far_range = 10\n",
    "camera.clipping_range = (near_range, far_range)\n",
    "    \n",
    "modelTransform = np.array([\n",
    " [  1.,   0.,   0.,  -0.],\n",
    "   [  0.,   1.,   0.,  -0.],\n",
    "   [  0.,   0.,   1., -10.],\n",
    "   [  0.,   0.,   0.,   1.]\n",
    "], dtype=np.float32)\n",
    "\n",
    "\n",
    "projTransform = np.array([\n",
    "  [ 7.11537 ,  0.     ,  0.     ,  0.     ],\n",
    "   [ 0.     ,9.48716  ,  0.     ,  0.     ],\n",
    "   [ 0.     ,  0.     , -1.     , -0.2    ],\n",
    "   [ 0.     ,  0.     , -1.     ,  0.     ]\n",
    "], dtype=np.float32)\n",
    "\n",
    "camera.SetModelTransformMatrix(trans_to_matrix(modelTransform))\n",
    "camera.SetExplicitProjectionTransformMatrix(trans_to_matrix(projTransform))\n",
    "camera.SetUseExplicitProjectionTransformMatrix(1)\n",
    "\n",
    "\n",
    "\n",
    "\n",
    "for i in range(20):\n",
    "    start = time()\n",
    "    \n",
    "    pl = pv.Plotter(off_screen=True)\n",
    "    pl.window_size =  640,480\n",
    "    pl.background_color = (1,1,1)\n",
    "    pl.camera = camera\n",
    "    \n",
    "    \n",
    "\n",
    "    mesh.rotate_x(60, point=axes.origin)\n",
    "    #mesh.rotate_y(60, point=axes.origin)\n",
    "    #mesh.rotate_z(60, point=axes.origin)\n",
    "\n",
    "    pl.add_mesh(mesh,texture=tex)\n",
    "    \n",
    "    \n",
    "    \n",
    "    \n",
    "    \n",
    "    img = pl.show(return_img=True)\n",
    "    pl.render()\n",
    "    img = pl.image\n",
    "\n",
    "    print(1/(time()-start))"
   ]
  },
  {
   "cell_type": "code",
   "execution_count": null,
   "metadata": {},
   "outputs": [],
   "source": [
    "plt.imshow(img)"
   ]
  },
  {
   "cell_type": "code",
   "execution_count": null,
   "metadata": {},
   "outputs": [],
   "source": [
    "img.shape"
   ]
  },
  {
   "cell_type": "code",
   "execution_count": null,
   "metadata": {},
   "outputs": [],
   "source": [
    "pl.camera.Ge()"
   ]
  },
  {
   "cell_type": "code",
   "execution_count": null,
   "metadata": {},
   "outputs": [],
   "source": [
    "mtx = pl.camera.GetModelViewTransformMatrix()\n",
    "mtx = pv.array_from_vtkmatrix(mtx)\n",
    "mtx"
   ]
  },
  {
   "cell_type": "code",
   "execution_count": null,
   "metadata": {},
   "outputs": [],
   "source": [
    "mtx = pl.camera.()\n",
    "#mtx = pv.array_from_vtkmatrix(mtx)\n",
    "mtx"
   ]
  },
  {
   "cell_type": "code",
   "execution_count": null,
   "metadata": {},
   "outputs": [],
   "source": [
    "pl.camera.model_transform_matrix"
   ]
  },
  {
   "cell_type": "code",
   "execution_count": null,
   "metadata": {},
   "outputs": [],
   "source": [
    "mtx = pl.camera.Ge\n",
    "#mtx = pv.array_from_vtkmatrix(mtx)\n",
    "mtx"
   ]
  },
  {
   "cell_type": "code",
   "execution_count": null,
   "metadata": {},
   "outputs": [],
   "source": [
    "camera.model_transform_matrix"
   ]
  },
  {
   "cell_type": "code",
   "execution_count": null,
   "metadata": {},
   "outputs": [],
   "source": [
    "camera."
   ]
  },
  {
   "cell_type": "code",
   "execution_count": null,
   "metadata": {},
   "outputs": [],
   "source": [
    "camera.model_transform_matrix"
   ]
  },
  {
   "cell_type": "code",
   "execution_count": null,
   "metadata": {},
   "outputs": [],
   "source": [
    "\n",
    "\n",
    "points = mesh.extract_feature_edges()\n",
    "points = points.points"
   ]
  },
  {
   "cell_type": "code",
   "execution_count": null,
   "metadata": {},
   "outputs": [],
   "source": []
  },
  {
   "cell_type": "code",
   "execution_count": 4,
   "metadata": {},
   "outputs": [
    {
     "name": "stderr",
     "output_type": "stream",
     "text": [
      "/home/dmitriishubin/anaconda3/envs/mask/lib/python3.7/site-packages/ipykernel_launcher.py:5: YAMLLoadWarning: calling yaml.load() without Loader=... is deprecated, as the default Loader is unsafe. Please read https://msg.pyyaml.org/load for full details.\n",
      "  \"\"\"\n"
     ]
    },
    {
     "data": {
      "text/plain": [
       "<matplotlib.image.AxesImage at 0x7f651c54d950>"
      ]
     },
     "execution_count": 4,
     "metadata": {},
     "output_type": "execute_result"
    },
    {
     "data": {
      "image/png": "[encoded data removed]",
      "text/plain": [
       "<Figure size 432x288 with 1 Axes>"
      ]
     },
     "metadata": {
      "needs_background": "light"
     },
     "output_type": "display_data"
    }
   ],
   "source": [
    "import open3d as o3d\n",
    "from utils.mask import Mask\n",
    "import yaml\n",
    "\n",
    "config  =yaml.load(open('./config.yml'))\n",
    "\n",
    "mask = Mask(config=config['mesh_params'], frame_size=(640,480))\n",
    "\n",
    "mesh = o3d.io.read_triangle_mesh(\"./data/3d_models/Mask.fbx\")\n",
    "mesh.compute_vertex_normals()\n",
    "\n",
    "mask.render.scene.add_geometry(\"rotated_model\", mesh, mask.mtl)\n",
    "\n",
    "image = mask.render.render_to_image()\n",
    "image = cv2.cvtColor(np.array(image), cv2.COLOR_RGBA2RGB)\n",
    "\n",
    "plt.imshow(image)"
   ]
  },
  {
   "cell_type": "code",
   "execution_count": null,
   "metadata": {},
   "outputs": [],
   "source": [
    "mask.render.scene.camera.get_projection_matrix()"
   ]
  },
  {
   "cell_type": "code",
   "execution_count": null,
   "metadata": {},
   "outputs": [],
   "source": [
    "mask.render.scene.camera.get_view_matrix()"
   ]
  },
  {
   "cell_type": "code",
   "execution_count": null,
   "metadata": {},
   "outputs": [],
   "source": [
    "o3d.visualization.draw_geometries([mesh])\n"
   ]
  },
  {
   "cell_type": "code",
   "execution_count": null,
   "metadata": {},
   "outputs": [],
   "source": [
    "mesh.textures = o3d.geometry.Image(img)"
   ]
  },
  {
   "cell_type": "code",
   "execution_count": null,
   "metadata": {},
   "outputs": [],
   "source": [
    "mesh.triangle_uvs = o3d.utility.Vector2dVector(img)\n",
    "o3d.visualization.draw_geometries([mesh])"
   ]
  },
  {
   "cell_type": "code",
   "execution_count": null,
   "metadata": {},
   "outputs": [],
   "source": []
  }
 ],
 "metadata": {
  "kernelspec": {
   "display_name": "Python 3 (ipykernel)",
   "language": "python",
   "name": "python3"
  },
  "language_info": {
   "codemirror_mode": {
    "name": "ipython",
    "version": 3
   },
   "file_extension": ".py",
   "mimetype": "text/x-python",
   "name": "python",
   "nbconvert_exporter": "python",
   "pygments_lexer": "ipython3",
   "version": "3.7.11"
  }
 },
 "nbformat": 4,
 "nbformat_minor": 4
}
