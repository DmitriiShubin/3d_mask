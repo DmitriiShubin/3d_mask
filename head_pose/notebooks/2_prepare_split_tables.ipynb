{
 "cells": [
  {
   "cell_type": "code",
   "execution_count": 1,
   "metadata": {},
   "outputs": [],
   "source": [
    "import pandas as pd\n",
    "import numpy as np\n",
    "import os\n",
    "import matplotlib.pyplot as plt\n",
    "from tqdm import tqdm\n",
    "import json\n",
    "from sklearn.model_selection import KFold,StratifiedKFold,GroupKFold\n",
    "import seaborn as sns\n",
    "import time"
   ]
  },
  {
   "cell_type": "code",
   "execution_count": 26,
   "metadata": {},
   "outputs": [],
   "source": [
    "def get_subset(patients: list, records: np.array):\n",
    "    subset = []\n",
    "    \n",
    "    for record in records.tolist():\n",
    "        \n",
    "        if int(record.split('/')[0]) in patients:\n",
    "        \n",
    "            subset.append(record)\n",
    "    \n",
    "    return subset"
   ]
  },
  {
   "cell_type": "markdown",
   "metadata": {},
   "source": [
    "# Get list of records"
   ]
  },
  {
   "cell_type": "code",
   "execution_count": 19,
   "metadata": {},
   "outputs": [
    {
     "data": {
      "text/plain": [
       "13"
      ]
     },
     "execution_count": 19,
     "metadata": {},
     "output_type": "execute_result"
    }
   ],
   "source": [
    "DATA_PATH = '../data/JET_data/processed_data/'\n",
    "OUT_PATH = '../data/split_tables/'\n",
    "\n",
    "patients = [i for i in os.listdir(DATA_PATH) if i.find('.')==-1]\n",
    "\n",
    "len(patients)"
   ]
  },
  {
   "cell_type": "markdown",
   "metadata": {},
   "source": [
    "# Get all records"
   ]
  },
  {
   "cell_type": "code",
   "execution_count": 21,
   "metadata": {},
   "outputs": [
    {
     "name": "stderr",
     "output_type": "stream",
     "text": [
      "100%|██████████| 13/13 [00:00<00:00, 495.03it/s]\n"
     ]
    }
   ],
   "source": [
    "records = []\n",
    "record_patient = []\n",
    "\n",
    "for patient in tqdm(patients):\n",
    "    \n",
    "    temp = [patient+'/'+i for i in os.listdir(DATA_PATH+patient) if i.find('.npy')!=-1]\n",
    "    \n",
    "    records += temp\n",
    "    record_patient += [patient]*len(temp)\n",
    "\n",
    "records = np.array(records)\n",
    "record_patient = np.array(record_patient)"
   ]
  },
  {
   "cell_type": "code",
   "execution_count": 30,
   "metadata": {},
   "outputs": [
    {
     "name": "stdout",
     "output_type": "stream",
     "text": [
      "Total number of records:  16892\n",
      "Total number of hours:  23\n",
      "Total number of patients:  13\n"
     ]
    }
   ],
   "source": [
    "print('Total number of records: ',len(records))\n",
    "print('Total number of hours: ',len(records)//720)\n",
    "print('Total number of patients: ',np.unique(record_patient).shape[0])"
   ]
  },
  {
   "cell_type": "markdown",
   "metadata": {},
   "source": [
    "# Current split tables"
   ]
  },
  {
   "cell_type": "code",
   "execution_count": 31,
   "metadata": {},
   "outputs": [],
   "source": [
    "test_patients = [2573187, 2740581, 2337416, 5006378, 2726762, 2799117, 5001360]\n",
    "\n",
    "train_patients = [2717090, 5014987, 2718860, 5025542]\n",
    "\n",
    "val_patients = [2240784, 5025547]"
   ]
  },
  {
   "cell_type": "code",
   "execution_count": 32,
   "metadata": {},
   "outputs": [],
   "source": [
    "records_test = get_subset(patients=test_patients, records=records)\n",
    "records_train = get_subset(patients=train_patients, records=records)\n",
    "records_val = get_subset(patients=val_patients, records=records)"
   ]
  },
  {
   "cell_type": "code",
   "execution_count": 40,
   "metadata": {},
   "outputs": [],
   "source": [
    "#prepare test split\n",
    "\n",
    "split = {\n",
    "        'test': records_test,\n",
    "    }\n",
    "\n",
    "with open(f'{OUT_PATH}test_split_table_.json', 'w') as outfile:\n",
    "        json.dump(split, outfile)\n",
    "        \n",
    "#prepare train and validation split\n",
    "\n",
    "split = {\n",
    "        'train': records_train,\n",
    "        'val': records_val,\n",
    "    }\n",
    "\n",
    "with open(f'{OUT_PATH}0_fold_split_table_.json', 'w') as outfile:\n",
    "        json.dump(split, outfile)\n"
   ]
  },
  {
   "cell_type": "markdown",
   "metadata": {},
   "source": [
    "# For the time when we get more data"
   ]
  },
  {
   "cell_type": "code",
   "execution_count": 33,
   "metadata": {},
   "outputs": [
    {
     "name": "stdout",
     "output_type": "stream",
     "text": [
      "Number of patients in test set: 4\n",
      "Patients: ['2337416' '5006378' '5014987' '5025547']\n"
     ]
    }
   ],
   "source": [
    "\n",
    "kf = GroupKFold(3)\n",
    "\n",
    "for fold,(train_index, test_index) in enumerate(kf.split(records,records,record_patient)):\n",
    "    records_test,patients_test = records[test_index],record_patient[test_index]\n",
    "    \n",
    "    split = {\n",
    "        'test': records_test.tolist(),\n",
    "    }\n",
    "    \n",
    "    with open(f'{OUT_PATH}test_split_table.json', 'w') as outfile:\n",
    "            json.dump(split, outfile)\n",
    "            \n",
    "    if fold == 0:\n",
    "        break\n",
    "    \n",
    "print(f'Number of patients in test set: {np.unique(patients_test).shape[0]}')\n",
    "print(f'Patients: {np.unique(patients_test)}')"
   ]
  },
  {
   "cell_type": "code",
   "execution_count": 34,
   "metadata": {},
   "outputs": [],
   "source": [
    "records = records[train_index].tolist()\n",
    "record_patient = record_patient[train_index].tolist()"
   ]
  },
  {
   "cell_type": "code",
   "execution_count": 38,
   "metadata": {},
   "outputs": [
    {
     "name": "stdout",
     "output_type": "stream",
     "text": [
      "Fold: 0\n",
      "Number of patients in train set: 5\n",
      "Patients, train: ['2240784' '2573187' '2717090' '2718860' '2740581']\n",
      "Number of patients in validation set: 4\n",
      "Patients, test: ['2726762' '2799117' '5001360' '5025542']\n",
      "\n",
      "\n",
      "Fold: 1\n",
      "Number of patients in train set: 4\n",
      "Patients, train: ['2726762' '2799117' '5001360' '5025542']\n",
      "Number of patients in validation set: 5\n",
      "Patients, test: ['2240784' '2573187' '2717090' '2718860' '2740581']\n",
      "\n",
      "\n"
     ]
    }
   ],
   "source": [
    "records = np.array(records)\n",
    "record_patient = np.array(record_patient)\n",
    "\n",
    "kf = GroupKFold(2)\n",
    "\n",
    "for fold,(train_index, test_index) in enumerate(kf.split(records,records,record_patient)):\n",
    "    records_train, records_test = records[train_index], records[test_index]\n",
    "    patient_train, patient_test = record_patient[train_index], record_patient[test_index]\n",
    "    \n",
    "    split = {\n",
    "        'train': records_train.tolist(),\n",
    "        'val': records_test.tolist(),\n",
    "    }\n",
    "    \n",
    "    with open(f'../data/split_tables/{fold}_split_table.json', 'w') as outfile:\n",
    "            json.dump(split, outfile)\n",
    "    \n",
    "    print(f'Fold: {fold}')\n",
    "    print(f'Number of patients in train set: {np.unique(patient_train).shape[0]}')\n",
    "    print(f'Patients, train: {np.unique(patient_train)}')\n",
    "    print(f'Number of patients in validation set: {np.unique(patient_test).shape[0]}')\n",
    "    print(f'Patients, test: {np.unique(patient_test)}')\n",
    "    print('\\n')\n"
   ]
  }
 ],
 "metadata": {
  "kernelspec": {
   "display_name": "Python 3",
   "language": "python",
   "name": "python3"
  },
  "language_info": {
   "codemirror_mode": {
    "name": "ipython",
    "version": 3
   },
   "file_extension": ".py",
   "mimetype": "text/x-python",
   "name": "python",
   "nbconvert_exporter": "python",
   "pygments_lexer": "ipython3",
   "version": "3.8.3"
  }
 },
 "nbformat": 4,
 "nbformat_minor": 4
}
